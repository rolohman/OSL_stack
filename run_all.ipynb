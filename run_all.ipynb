{
 "cells": [
  {
   "cell_type": "code",
   "execution_count": 1,
   "metadata": {
    "hideCode": true,
    "hidePrompt": true
   },
   "outputs": [],
   "source": [
    "import os,sys\n",
    "import pandas\n",
    "from osgeo import gdal\n",
    "import datetime \n",
    "from dateutil import parser\n",
    "import numpy as np\n",
    "import matplotlib.pyplot as plt\n",
    "import matplotlib.patches as mpatches"
   ]
  },
  {
   "cell_type": "markdown",
   "metadata": {
    "hideCode": true,
    "hidePrompt": true
   },
   "source": [
    "## First we need to define some things. user/passwd, etc."
   ]
  },
  {
   "cell_type": "code",
   "execution_count": 2,
   "metadata": {
    "hideCode": true,
    "hidePrompt": true
   },
   "outputs": [],
   "source": [
    "targetNumDates = 3 #may be able to increase this if you are using less than a full frame (<9-10 bursts, <3 swaths)\n",
    "username ='rlohman'\n",
    "passwd   ='your-password-here'\n",
    "workdir  ='Oman' #make sure this exists\n",
    "dem      = '/home/jovyan/Oman/DEM/demLat_N18_N21_Lon_E055_E058.dem.wgs84' #make sure this exists too!"
   ]
  },
  {
   "cell_type": "markdown",
   "metadata": {
    "hideCode": true,
    "hidePrompt": true
   },
   "source": [
    "## Fix Paths\n",
    "Do this if you haven't already - will have to close and restart this notebook."
   ]
  },
  {
   "cell_type": "code",
   "execution_count": 3,
   "metadata": {
    "hideCode": true,
    "hidePrompt": true
   },
   "outputs": [
    {
     "name": "stdout",
     "output_type": "stream",
     "text": [
      "/home/jovyan/.local/envs/insar_analysis/share/isce2/topsStack/:/home/jovyan/.local/MintPy:/home/jovyan/.local/PyAPS:/home/jovyan/.local/ARIA-tools/tools:/home/jovyan/.local/ARIA-tools/tools/ARIAtools:/home/jovyan/.local/envs/insar_analysis/lib/python3.8/site-packages/isce:\n",
      "/home/jovyan/.local/envs/insar_analysis/share/isce2/topsStack/:/home/jovyan/.local/MintPy/mintpy:/home/jovyan/.local/envs/insar_analysis/share/isce2/topsStack/:/home/jovyan/.local/ARIA-tools/tools/bin:/home/jovyan/.local/ARIA-tools/tools/ARIAtools:/home/jovyan/.local/envs/insar_analysis/lib/python3.8/site-packages/isce/applications:/home/jovyan/.local/envs/insar_analysis/bin:/opt/conda/bin:/opt/conda/bin:/opt/conda/condabin:/opt/conda/bin:/usr/local/sbin:/usr/local/bin:/usr/sbin:/usr/bin:/sbin:/bin:/usr/local/mapready/bin:/usr/local/mapready/lib:/usr/local/mapready/share\n",
      "/home/jovyan/.local/MintPy/mintpy:/home/jovyan/.local/envs/insar_analysis/share/isce2/topsStack/:/home/jovyan/.local/ARIA-tools/tools/bin:/home/jovyan/.local/ARIA-tools/tools/ARIAtools:/home/jovyan/.local/envs/insar_analysis/lib/python3.8/site-packages/isce/applications:/home/jovyan/.local/envs/insar_analysis/bin:/opt/conda/bin:/opt/conda/bin:/opt/conda/condabin:/opt/conda/bin:/usr/local/sbin:/usr/local/bin:/usr/sbin:/usr/bin:/sbin:/bin:/usr/local/mapready/bin:/usr/local/mapready/lib:/usr/local/mapready/share\n",
      "/home/jovyan/.local/MintPy:/home/jovyan/.local/PyAPS:/home/jovyan/.local/ARIA-tools/tools:/home/jovyan/.local/ARIA-tools/tools/ARIAtools:/home/jovyan/.local/envs/insar_analysis/lib/python3.8/site-packages/isce:\n"
     ]
    }
   ],
   "source": [
    "pythonpath='/home/jovyan/.local/envs/insar_analysis/share/isce2/topsStack/:'+os.environ['PYTHONPATH']\n",
    "path='/home/jovyan/.local/envs/insar_analysis/share/isce2/topsStack/:'+os.environ['PATH']\n",
    "print(pythonpath)\n",
    "print(path)\n",
    "print(os.environ['PATH'])\n",
    "print(os.environ['PYTHONPATH'])\n",
    "#os.system(\"conda env config vars set -n insar_analysis PYTHONPATH=$pythonpath\")\n",
    "#os.system(\"conda env config vars set -n insar_analysis PATH=$path\")"
   ]
  },
  {
   "cell_type": "markdown",
   "metadata": {
    "hideCode": true,
    "hidePrompt": true
   },
   "source": [
    "## Go to vertex and do an initial search\n",
    "You should narrow down your area of interest, and which track you are using. Choose a bounding box (draw on map) - all frames that even touch it will be downloaded, so take some care in choosing a reasonable bounds\n",
    "Paste in the \"wkt\" format lat/lon bounds from vertex, and set your track and other info below."
   ]
  },
  {
   "cell_type": "code",
   "execution_count": 4,
   "metadata": {
    "hideCode": true,
    "hidePrompt": true
   },
   "outputs": [],
   "source": [
    "polygon = \"&intersectsWith=POLYGON((55.4286 18.7125,57.4812 19.0657,57.3074 20.0412,55.1998 19.6171,55.4286 18.7125))\"\n",
    "track   = \"&relativeOrbit=130\" #also referred to as \"relative orbit\"\n",
    "date1   = '&start=2018-05-01'  #start of search date period\n",
    "date2   = '&end=2018-10-01'    #end of search date period\n",
    "refdate = '20180502'\n",
    "\n",
    "narrowpoly = ' -b \\'18.33 20.43 54.95 57.55\\' ' #this is the area you want to extract, but may need be adjusted after your first iter of stackSentinel_VH\n",
    "swaths     = ' -n \\'1 2 3\\''    #list of swaths if you know you only need one or two, otherwise all.\n",
    "looks      = ' -r 20 -z 4 ' #final looks of your large-area interferograms\n",
    "croppoly   = [2000, 4000, 28000, 3000]"
   ]
  },
  {
   "cell_type": "markdown",
   "metadata": {
    "hideCode": true,
    "hidePrompt": true
   },
   "source": [
    "## Run api calls to construct list of files"
   ]
  },
  {
   "cell_type": "code",
   "execution_count": 5,
   "metadata": {
    "hideCode": true,
    "hidePrompt": true,
    "scrolled": true
   },
   "outputs": [
    {
     "data": {
      "text/plain": [
       "0"
      ]
     },
     "execution_count": 5,
     "metadata": {},
     "output_type": "execute_result"
    }
   ],
   "source": [
    "#this is a dumb way of doing this, but I don't feel like dealing with installing the requests package.\n",
    "apistring='https://api.daac.asf.alaska.edu/services/search/param?platform=S1&beamSwath=IW&processingLevel=SLC'+track+date1+date2+polygon\n",
    "os.system('wget \\\"'+apistring+'&output=csv\\\" -O list.csv -q')\n"
   ]
  },
  {
   "cell_type": "code",
   "execution_count": 6,
   "metadata": {
    "hideCode": true,
    "hidePrompt": true
   },
   "outputs": [
    {
     "name": "stdout",
     "output_type": "stream",
     "text": [
      "running in 5 batches with 13 unique dates and 13 total files\n"
     ]
    }
   ],
   "source": [
    "df = pandas.read_csv('list.csv')\n",
    "df['Acquisition Date'] = pandas.to_datetime(df['Acquisition Date'])\n",
    "df['date'] = pandas.to_datetime(df['Acquisition Date'])    \n",
    "numfiles = np.shape(df)[0]\n",
    "\n",
    "uniqueDates=df['date'].dt.date.unique()\n",
    "uniqueDates.sort()\n",
    "totNumDates=np.size(uniqueDates)\n",
    "batches = int(np.ceil(totNumDates / targetNumDates))\n",
    "print(\"running in \"+ str(batches) + \" batches with \"+ str(totNumDates)+ ' unique dates and ' + str(numfiles) +' total files')\n"
   ]
  },
  {
   "cell_type": "markdown",
   "metadata": {
    "hideCode": true,
    "hidePrompt": true
   },
   "source": [
    "## First batch\n",
    "Now we have a list of files so we will try our first batch, which should contain your first (reference) date as set above.  I think this SHOULD now find all files on a given date.  That part was a pain."
   ]
  },
  {
   "cell_type": "code",
   "execution_count": 7,
   "metadata": {
    "hideCode": true,
    "hidePrompt": true
   },
   "outputs": [
    {
     "name": "stdout",
     "output_type": "stream",
     "text": [
      "Downloading data for batch 0\n",
      "S1A_IW_SLC__1SDV_20180502T142258_20180502T142326_021727_0257C5_AF44.zip already downloaded\n",
      "S1A_IW_SLC__1SDV_20180514T142258_20180514T142326_021902_025D64_10B4.zip already downloaded\n",
      "S1A_IW_SLC__1SDV_20180526T142259_20180526T142327_022077_0262E9_B532.zip already downloaded\n"
     ]
    }
   ],
   "source": [
    "index=0\n",
    "i=0\n",
    "print('Downloading data for batch '+str(int(i)))\n",
    "for j in np.arange(targetNumDates):\n",
    "    if index < totNumDates:\n",
    "        for k in np.arange(numfiles):\n",
    "             if df.date[k].date() == uniqueDates[index]:\n",
    "                    rawFile=df['URL'][k]\n",
    "                    rawRoot=os.path.basename(rawFile)\n",
    "                    if os.path.exists(os.path.join('/home/jovyan',workdir,'raw',rawRoot)):\n",
    "                        print(rawRoot+' already downloaded')\n",
    "                    else:\n",
    "                        wstr='wget '+ rawFile+ ' --user=\"' + username + '\" --password=\"' + passwd + '\" --directory-prefix=' + workdir + '/raw'\n",
    "                        os.system(wstr+' --progress=bar:force:noscroll')\n",
    "        index+=1\n",
    "    "
   ]
  },
  {
   "cell_type": "markdown",
   "metadata": {
    "hideCode": true,
    "hidePrompt": true
   },
   "source": [
    "## prepping and running stack"
   ]
  },
  {
   "cell_type": "code",
   "execution_count": 15,
   "metadata": {
    "hideCode": true,
    "hidePrompt": true
   },
   "outputs": [
    {
     "name": "stdout",
     "output_type": "stream",
     "text": [
      "This is the Open Source version of ISCE.\n",
      "Some of the workflows depend on a separate licensed package.\n",
      "To obtain the licensed package, please make a request for ISCE\n",
      "through the website: https://download.jpl.nasa.gov/ops/request/index.cfm.\n",
      "Alternatively, if you are a member, or can become a member of WinSAR\n",
      "you may be able to obtain access to a version of the licensed sofware at\n",
      "https://winsar.unavco.org/software/isce\n",
      "Number of SAFE files found: 3\n",
      "*****************************************\n",
      "20180502\n",
      "orbit was not found in the /home/jovyan\n",
      "downloading precise or restituted orbits ...\n",
      "restituted orbit already exists.\n",
      "2021-10-21 01:04:26,978 - shapely.geos - DEBUG - Trying `CDLL(libc.so.6)`\n",
      "2021-10-21 01:04:26,978 - shapely.geos - DEBUG - Library path: 'libc.so.6'\n",
      "2021-10-21 01:04:26,979 - shapely.geos - DEBUG - DLL: <CDLL 'libc.so.6', handle 7fafc25ac920 at 0x7faf738f1e50>\n",
      "*****************************************\n",
      "20180526\n",
      "orbit was not found in the /home/jovyan\n",
      "downloading precise or restituted orbits ...\n",
      "restituted orbit already exists.\n",
      "*****************************************\n",
      "20180514\n",
      "orbit was not found in the /home/jovyan\n",
      "downloading precise or restituted orbits ...\n",
      "restituted orbit already exists.\n",
      "Number of SAFE files to be used (cover BBOX): 3\n",
      "*****************************************\n",
      "Number of dates : 3\n",
      "List of dates : \n",
      "['20180502', '20180514', '20180526']\n",
      "date      south      north\n",
      "20180502 18.325602 20.440035\n",
      "20180514 18.325741 20.44029\n",
      "20180526 18.325678 20.440004\n",
      "*****************************************\n",
      "The overlap region among all dates (based on the preview kml files):\n",
      " South   North   East  West \n",
      "18.325741 20.440004 54.931217 57.653774\n",
      "*****************************************\n",
      "All dates (3)\n",
      "['20180502', '20180514', '20180526']\n",
      "\n",
      "dates covering the bbox (3)\n",
      "['20180502', '20180514', '20180526']\n",
      "\n",
      "\n",
      "All SLCs will be coregistered to : 20180502\n",
      "secondary dates :\n",
      "['20180514', '20180526']\n",
      "\n",
      "No existing stack was identified. A new stack will be generated.\n",
      "*****************************************\n",
      "Coregistration method:  NESD\n",
      "Workflow:  interferogram\n",
      "*****************************************\n",
      "writing  /home/jovyan/Oman/run_files/run_01_unpack_topo_reference\n",
      "writing  /home/jovyan/Oman/run_files/run_01_unpack_topo_reference\n",
      "writing  /home/jovyan/Oman/run_files/run_02_unpack_secondary_slc\n",
      "writing  /home/jovyan/Oman/run_files/run_02_unpack_secondary_slc\n",
      "writing  /home/jovyan/Oman/run_files/run_03_average_baseline\n",
      "writing  /home/jovyan/Oman/run_files/run_04_extract_burst_overlaps\n",
      "writing  /home/jovyan/Oman/run_files/run_05_overlap_geo2rdr\n",
      "writing  /home/jovyan/Oman/run_files/run_06_overlap_resample\n",
      "writing  /home/jovyan/Oman/run_files/run_07_pairs_misreg\n",
      "writing  /home/jovyan/Oman/run_files/run_08_timeseries_misreg\n",
      "writing  /home/jovyan/Oman/run_files/run_09_fullBurst_geo2rdr\n",
      "writing  /home/jovyan/Oman/run_files/run_09_fullBurst_geo2rdr\n",
      "writing  /home/jovyan/Oman/run_files/run_10_fullBurst_resample\n",
      "writing  /home/jovyan/Oman/run_files/run_10_fullBurst_resample\n",
      "writing  /home/jovyan/Oman/run_files/run_11_extract_stack_valid_region\n",
      "writing  /home/jovyan/Oman/run_files/run_12_merge_reference_secondary_slc\n",
      "writing  /home/jovyan/Oman/run_files/run_12_merge_reference_secondary_slc\n",
      "writing  /home/jovyan/Oman/run_files/run_13_generate_burst_igram\n",
      "writing  /home/jovyan/Oman/run_files/run_14_merge_burst_igram\n",
      "writing  /home/jovyan/Oman/run_files/run_15_grid_baseline\n",
      "Will delete files from:20180514\n"
     ]
    },
    {
     "data": {
      "text/plain": [
       "0"
      ]
     },
     "execution_count": 15,
     "metadata": {},
     "output_type": "execute_result"
    }
   ],
   "source": [
    "command='/home/jovyan/stackSentinel_VH.py -s /home/jovyan/'+workdir+'/raw -m '+refdate+' -o /home/jovyan/ -a /home/jovyan/'+workdir+'/aux/ -w /home/jovyan/'+workdir+' -d '+dem+narrowpoly+swaths+looks+' -c 1 -O 1 -W interferogram'\n",
    "os.system(command)"
   ]
  },
  {
   "cell_type": "markdown",
   "metadata": {
    "hideCode": true,
    "hidePrompt": true
   },
   "source": [
    "## Check output \n",
    "Did it run and make run_files and runstuff and runstuff2?  Did all the dates get selected?  often need to adjust the -b parameter here."
   ]
  },
  {
   "cell_type": "code",
   "execution_count": null,
   "metadata": {
    "hideCode": true,
    "hidePrompt": true
   },
   "outputs": [],
   "source": [
    "os.system('/home/jovyan/'+workdir+'/runstuff')"
   ]
  },
  {
   "cell_type": "markdown",
   "metadata": {
    "hideCode": true,
    "hidePrompt": true,
    "slideshow": {
     "slide_type": "slide"
    }
   },
   "source": [
    "## Check output\n",
    "Did everything run?  Is there content in the merged directory?  If so, now is the time to pick your cropping locations."
   ]
  },
  {
   "cell_type": "code",
   "execution_count": null,
   "metadata": {
    "hideCode": true,
    "hidePrompt": true
   },
   "outputs": [],
   "source": [
    "#bounds of our cropped region\n",
    "x1=int(croppoly[0]/20)\n",
    "x2=int((croppoly[0]+croppoly[2])/20)\n",
    "y1=int(croppoly[1]/4)\n",
    "y2=int((croppoly[1]+croppoly[3])/4)\n",
    "\n",
    "ds = gdal.Open(\"/home/jovyan/Oman/merged/interferograms/20181005_20181017/fine.int\", gdal.GA_ReadOnly)\n",
    "data_array = ds.GetRasterBand(1).ReadAsArray()\n",
    "\n",
    "ang_data_array= np.angle(data_array)\n",
    "abs_data_array= np.abs(data_array)\n",
    "plt.figure(figsize=(10, 11))\n",
    "#plt.imshow(ang_data_array,vmin=-np.pi, vmax=np.pi, cmap='jet')\n",
    "plt.imshow(abs_data_array,vmin=0, vmax=10000, cmap='gray')\n",
    "rect=mpatches.Rectangle((x1,y1),(x2-x1),(y2-y1), \n",
    "                        fill=False,\n",
    "                        color=\"purple\",\n",
    "                       linewidth=2)\n",
    "                       #facecolor=\"red\")\n",
    "plt.gca().add_patch(rect)"
   ]
  },
  {
   "cell_type": "code",
   "execution_count": null,
   "metadata": {
    "hideCode": true,
    "hidePrompt": true
   },
   "outputs": [],
   "source": [
    "\n",
    "plt.figure(figsize=(10, 11))\n",
    "plt.imshow(ang_data_array[y1:y2,x1:x2],vmin=-np.pi, vmax=np.pi, cmap='jet')\n"
   ]
  },
  {
   "cell_type": "markdown",
   "metadata": {
    "hideCode": true,
    "hidePrompt": true
   },
   "source": [
    "## Crop and delete\n",
    "Next we run runstuff 2 - be careful, since what it does is crop and then delete files!"
   ]
  },
  {
   "cell_type": "code",
   "execution_count": null,
   "metadata": {
    "hideCode": true,
    "hidePrompt": true
   },
   "outputs": [],
   "source": [
    "os.system('/home/jovyan/'+workdir+'/runstuff2'"
   ]
  },
  {
   "cell_type": "markdown",
   "metadata": {
    "hideCode": true,
    "hidePrompt": true
   },
   "source": [
    "## If you are content with what comes out, let's run the rest of the batches."
   ]
  },
  {
   "cell_type": "code",
   "execution_count": null,
   "metadata": {
    "hideCode": true,
    "hidePrompt": true
   },
   "outputs": [],
   "source": [
    "for i in np.arange(batches):\n",
    "    print('Starting batch '+str(int(i)))\n",
    "    for j in np.arange(targetNumDates):\n",
    "        if index < totNumDates:\n",
    "            for k in np.arange(numfiles):\n",
    "                if df.date[k].date() == uniqueDates[index]:\n",
    "                    wstr='wget '+ df['URL'][index]+ ' --user=\"' + username + '\" --password=\"' + passwd + '\" --directory-prefix=' + workdir + '/raw'\n",
    "                    os.system(wstr+' -q --progress=bar:force:noscroll')\n",
    "\n",
    "            index+=1\n",
    "    command='/home/jovyan/stackSentinel_VH.py -s /home/jovyan/'+workdir+'/raw -m '+refdate+' -o /home/jovyan/ -a /home/jovyan/'+workdir+'/aux/ -w /home/jovyan/'+workdir+' -d '+dem+narrowpoly+swaths+looks+' -c 1 -O 1 -W interferogram'\n",
    "    os.system(command)\n",
    "    os.system('/home/jovyan/'+workdir+'/runstuff')\n",
    "    os.system('/home/jovyan/'+workdir+'/runstuff2')"
   ]
  },
  {
   "cell_type": "code",
   "execution_count": null,
   "metadata": {
    "hideCode": true,
    "hidePrompt": true
   },
   "outputs": [],
   "source": []
  }
 ],
 "metadata": {
  "hide_code_all_hidden": true,
  "kernelspec": {
   "display_name": "Python [conda env:.local-insar_analysis]",
   "language": "python",
   "name": "conda-env-.local-insar_analysis-py"
  },
  "language_info": {
   "codemirror_mode": {
    "name": "ipython",
    "version": 3
   },
   "file_extension": ".py",
   "mimetype": "text/x-python",
   "name": "python",
   "nbconvert_exporter": "python",
   "pygments_lexer": "ipython3",
   "version": "3.8.10"
  }
 },
 "nbformat": 4,
 "nbformat_minor": 4
}
