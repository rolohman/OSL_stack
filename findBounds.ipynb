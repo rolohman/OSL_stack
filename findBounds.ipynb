{
 "cells": [
  {
   "cell_type": "code",
   "execution_count": 1,
   "metadata": {},
   "outputs": [],
   "source": [
    "import os\n",
    "import glob\n",
    "import re\n",
    "import numpy as np\n",
    "from osgeo import gdal\n",
    "import struct"
   ]
  },
  {
   "cell_type": "code",
   "execution_count": 43,
   "metadata": {},
   "outputs": [],
   "source": [
    "targetX=[-120.22, -120.22, -119.19, -119.19]\n",
    "targetY=[36.24,   35.74,  35.74,  36.24]\n",
    "#geoinfo = '\\\"35.88 36.11 -119.89 -119.64\\\"'\n",
    "geoinfo = '\\\"35.73 36.25 -120.23 -119.18\\\"'\n",
    "geodir='/home/jovyan/CV/merged/geom_reference' #full path to merged interferogram directory\n",
    "intname='/home/jovyan/CV/merged/interferograms/20190814_20190820/fine.int'"
   ]
  },
  {
   "cell_type": "code",
   "execution_count": 44,
   "metadata": {},
   "outputs": [],
   "source": [
    "rowname=geodir+'/rows.rdr'\n",
    "colname=geodir+'/cols.rdr'"
   ]
  },
  {
   "cell_type": "markdown",
   "metadata": {},
   "source": [
    "# Need to fix the xml and vrt files for the cfloat->float"
   ]
  },
  {
   "cell_type": "code",
   "execution_count": 45,
   "metadata": {},
   "outputs": [
    {
     "name": "stdout",
     "output_type": "stream",
     "text": [
      "2426\n",
      "1837\n"
     ]
    }
   ],
   "source": [
    "rds = gdal.Open(intname)\n",
    "img_width,img_height=rds.RasterXSize,rds.RasterYSize\n",
    "\n",
    "print(int(img_width))\n",
    "print(int(img_height))"
   ]
  },
  {
   "cell_type": "code",
   "execution_count": 46,
   "metadata": {},
   "outputs": [],
   "source": [
    "os.system('cp '+intname+'.xml '+'tmp.xml')\n",
    "\n",
    "suffs = ('.vrt','.xml')\n",
    "files = (rowname,colname)\n",
    "for suff in suffs:\n",
    "    for file in files:\n",
    "        os.system('cp '+intname+suff+' '+file+suff)\n",
    "\n",
    "        #input file\n",
    "        fin= open(file+suff, \"rt\")\n",
    "        data = fin.read()\n",
    "        data = data.replace('CFloat', 'Float')      \n",
    "        data = data.replace('CFLOAT', 'FLOAT')      \n",
    "        data = data.replace('<PixelOffset>8</PixelOffset>','<PixelOffset>4</PixelOffset>')\n",
    "        data = data.replace(intname,file)\n",
    "        data = data.replace('fine.int',file)\n",
    "        data = data.replace('<LineOffset>'+str(img_width*8)+'</LineOffset>','<LineOffset>'+str(img_width*4)+'</LineOffset>')\n",
    "        data = data.replace('cpx','FLOAT')\n",
    "        fin.close()\n",
    "    \n",
    "        fout = open(file+suff,'wt')\n",
    "        fout.write(data)\n",
    "        fout.close()\n",
    "\n"
   ]
  },
  {
   "cell_type": "code",
   "execution_count": 47,
   "metadata": {},
   "outputs": [],
   "source": [
    "filecol = open(colname, \"wb\")\n",
    "filerow = open(rowname, \"wb\")\n",
    "\n",
    "for i in np.arange(img_height):\n",
    "    for j in np.arange(img_width):\n",
    "        filerow.write(struct.pack('<f',i+1))\n",
    "        filecol.write(struct.pack('<f',j+1))\n",
    "\n",
    "filerow.close()\n",
    "filecol.close()"
   ]
  },
  {
   "cell_type": "code",
   "execution_count": 48,
   "metadata": {},
   "outputs": [
    {
     "name": "stdout",
     "output_type": "stream",
     "text": [
      "This is the Open Source version of ISCE.\n",
      "Some of the workflows depend on a separate licensed package.\n",
      "To obtain the licensed package, please make a request for ISCE\n",
      "through the website: https://download.jpl.nasa.gov/ops/request/index.cfm.\n",
      "Alternatively, if you are a member, or can become a member of WinSAR\n",
      "you may be able to obtain access to a version of the licensed sofware at\n",
      "https://winsar.unavco.org/software/isce\n",
      "Writing geotrans to VRT for /home/jovyan/CV/merged/geom_reference/rows.rdr\n",
      "This is the Open Source version of ISCE.\n",
      "Some of the workflows depend on a separate licensed package.\n",
      "To obtain the licensed package, please make a request for ISCE\n",
      "through the website: https://download.jpl.nasa.gov/ops/request/index.cfm.\n",
      "Alternatively, if you are a member, or can become a member of WinSAR\n",
      "you may be able to obtain access to a version of the licensed sofware at\n",
      "https://winsar.unavco.org/software/isce\n",
      "Writing geotrans to VRT for /home/jovyan/CV/merged/geom_reference/cols.rdr\n"
     ]
    },
    {
     "data": {
      "text/plain": [
       "0"
      ]
     },
     "execution_count": 48,
     "metadata": {},
     "output_type": "execute_result"
    }
   ],
   "source": [
    "os.system(\"fixImageXml.py -i \"+geodir+\"/rows.rdr -f\")\n",
    "os.system(\"fixImageXml.py -i \"+geodir+\"/cols.rdr -f\")"
   ]
  },
  {
   "cell_type": "code",
   "execution_count": 49,
   "metadata": {},
   "outputs": [
    {
     "name": "stdout",
     "output_type": "stream",
     "text": [
      "run these from the directory where the row/col.rdr files are sitting, within merged/geom_reference\n",
      "geocodeGdal.py --lat /home/jovyan/CV/merged/geom_reference/lat.rdr --lon /home/jovyan/CV/merged/geom_reference/lon.rdr -r nearest -b \"35.73 36.25 -120.23 -119.18\" -x 0.0001 -y 0.0001 -f rows.rdr\n",
      "geocodeGdal.py --lat /home/jovyan/CV/merged/geom_reference/lat.rdr --lon /home/jovyan/CV/merged/geom_reference/lon.rdr -r nearest -b \"35.73 36.25 -120.23 -119.18\" -x 0.0001 -y 0.0001 -f cols.rdr\n"
     ]
    }
   ],
   "source": [
    "print('run these from the directory where the row/col.rdr files are sitting, within merged/geom_reference')\n",
    "command='geocodeGdal.py --lat /home/jovyan/CV/merged/geom_reference/lat.rdr --lon /home/jovyan/CV/merged/geom_reference/lon.rdr -r nearest -b '+geoinfo+' -x 0.0001 -y 0.0001 -f rows.rdr'\n",
    "print(command)\n",
    "  \n",
    "command='geocodeGdal.py --lat /home/jovyan/CV/merged/geom_reference/lat.rdr --lon /home/jovyan/CV/merged/geom_reference/lon.rdr -r nearest -b '+geoinfo+' -x 0.0001 -y 0.0001 -f cols.rdr'\n",
    "print(command)\n",
    "                                  "
   ]
  },
  {
   "cell_type": "markdown",
   "metadata": {},
   "source": [
    "# Run the two commands above in a terminal WITHIN the merged/geom_reference directory"
   ]
  },
  {
   "cell_type": "code",
   "execution_count": 50,
   "metadata": {
    "scrolled": true
   },
   "outputs": [
    {
     "name": "stdout",
     "output_type": "stream",
     "text": [
      "target row is [ 619. 1602. 1315.  336.] target col is [1668. 1525.  260.  390.]\n"
     ]
    }
   ],
   "source": [
    "target_row=np.empty((4));\n",
    "target_col=np.empty((4));\n",
    "target_col[:]=np.NaN;\n",
    "target_row[:]=np.NaN;\n",
    "for i in np.arange(4):\n",
    "\n",
    "    ds = gdal.Open('/home/jovyan/CV/merged/geom_reference/geo_rows.rdr')\n",
    "    ulx, xres, xskew, uly, yskew, yres  = ds.GetGeoTransform()\n",
    "\n",
    "    px = np.round((targetX[i]-ulx) / xres)\n",
    "    py = np.round((targetY[i]-uly) / yres)\n",
    "\n",
    "    if px <= 0 or px > ds.RasterXSize:\n",
    "        print(str(targetX[i])+' out of range: px='+str(px))\n",
    "    elif py <=0 or py > ds.RasterYSize:\n",
    "        print(str(targetY[i])+' out of range: py='+str(py))\n",
    "    else:\n",
    "        tmpval = ds.ReadRaster(int(px), int(py), 1,1, buf_type = gdal.GDT_Float32)\n",
    "        tmpval = struct.unpack('f' ,tmpval)\n",
    "        target_row[i] = tmpval[0] #because struct unpack returns a tuple\n",
    "        ds=None\n",
    "        ds = gdal.Open('/home/jovyan/CV/merged/geom_reference/geo_cols.rdr')\n",
    "        tmpval = ds.ReadRaster(int(px), int(py), 1,1, buf_type = gdal.GDT_Float32)\n",
    "        tmpval = struct.unpack('f' ,tmpval)\n",
    "        target_col[i] = tmpval[0] #because struct unpack returns a tuple\n",
    "        ds=None\n",
    "\n",
    "print('target row is '+str(target_row)+' target col is '+str(target_col))"
   ]
  },
  {
   "cell_type": "code",
   "execution_count": null,
   "metadata": {},
   "outputs": [],
   "source": []
  },
  {
   "cell_type": "code",
   "execution_count": null,
   "metadata": {},
   "outputs": [],
   "source": []
  }
 ],
 "metadata": {
  "kernelspec": {
   "display_name": "insar_analysis [conda env:.local-insar_analysis]",
   "language": "python",
   "name": "conda-env-.local-insar_analysis-py"
  },
  "language_info": {
   "codemirror_mode": {
    "name": "ipython",
    "version": 3
   },
   "file_extension": ".py",
   "mimetype": "text/x-python",
   "name": "python",
   "nbconvert_exporter": "python",
   "pygments_lexer": "ipython3",
   "version": "3.8.12"
  }
 },
 "nbformat": 4,
 "nbformat_minor": 4
}
